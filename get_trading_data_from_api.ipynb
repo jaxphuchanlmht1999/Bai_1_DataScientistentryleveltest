{
 "cells": [
  {
   "attachments": {},
   "cell_type": "markdown",
   "metadata": {},
   "source": [
    "o,h,l,c = open, high, low, close\n",
    "\n",
    "t = time\n",
    "\n",
    "mv = matching volume\n",
    "\n",
    "mb = trạng thái mua ASk và bán BID\n",
    "\n",
    "Giờ giao dịch từ 9h00 -> 14h30 (7 lần 15h00)"
   ]
  },
  {
   "cell_type": "code",
   "execution_count": 1,
   "metadata": {},
   "outputs": [],
   "source": [
    "# Các mã cổ phiếu\n",
    "\n",
    "vn30 = ['ACB', 'BID', 'BVH', 'CTG', 'FPT', 'GAS', 'GVR', 'HDB', 'HPG', 'KDH', 'MBB', 'MSN', 'MWG', 'NVL',\n",
    "'PDR', 'PLX', 'PNJ', 'POW', 'SAB', 'SSI', 'STB', 'TCB', 'TPB', 'VCB', 'VHM', 'VIC', 'VJC', 'VNM',\n",
    "'VPB', 'VRE', 'VN30']\n"
   ]
  },
  {
   "cell_type": "code",
   "execution_count": 2,
   "metadata": {},
   "outputs": [],
   "source": [
    "import requests\n",
    "import json\n",
    "from datetime import datetime\n",
    "import os\n",
    "import pandas as pd\n",
    "from time import sleep"
   ]
  },
  {
   "cell_type": "code",
   "execution_count": 3,
   "metadata": {},
   "outputs": [
    {
     "name": "stdout",
     "output_type": "stream",
     "text": [
      "C:\\Users\\Admin\\OneDrive_Quan\\Máy tính\\Test_CTY_Dang\\Request\\persistent_070323\n"
     ]
    }
   ],
   "source": [
    "# Định nghĩa thư mục persistent\n",
    "\n",
    "%cd C:\\Users\\Admin\\OneDrive_Quan\\Máy tính\\Test_CTY_Dang\\Request\\persistent_070323"
   ]
  },
  {
   "cell_type": "code",
   "execution_count": 5,
   "metadata": {},
   "outputs": [],
   "source": [
    "# Định nghĩa số lần lấy data hoặc thời gian lấy data\n",
    "# Tùy vào yêu cầu, linh động biến này\n",
    "\n",
    "times_get_data = 7\n",
    "\n",
    "times_geted_data = 0\n",
    "\n",
    "# Định nghĩa thời gian nghĩ (đơn vị giây: s)\n",
    "time_sleep = 60 * 60"
   ]
  },
  {
   "cell_type": "code",
   "execution_count": 6,
   "metadata": {},
   "outputs": [],
   "source": [
    "while(times_geted_data < times_get_data):\n",
    "    # Thời gian lấy data\n",
    "    current_time = datetime.now().strftime(\"%H:%M:%S\").replace(':','')\n",
    "\n",
    "    # Vòng for lấy data\n",
    "    for vn_id in vn30:\n",
    "            # load data từ API\n",
    "            url = f'https://trading.kisvn.vn/rest/api/v2/market/symbol/{vn_id}/quote'\n",
    "            payload = \"\"\n",
    "            response = requests.request(\"GET\", url, data=payload)\n",
    "\n",
    "            # Convert Data từ text -> json\n",
    "            data_json = json.loads(response.text)\n",
    "\n",
    "            # Lấy ngày hôm nay - Get today\n",
    "            today = str(datetime.now().date())\n",
    "\n",
    "            # Tạo folder chứa file data nếu folder vn_id không tồn tại\n",
    "            if(os.path.isdir(f'{vn_id}') == False):\n",
    "                os.mkdir(vn_id)\n",
    "\n",
    "            # Định nghĩa tên file và tạo data định dạng csv\n",
    "            # Hỏi lại định dạng tên file để đồng bộ data với công ty\n",
    "            name_data = str(vn_id) + '-' + str(current_time)\n",
    "            pd.DataFrame(data_json).to_csv(f'./{vn_id}/{name_data}.csv', index=None)\n",
    "\n",
    "\n",
    "    # cập nhật số lần lấy data\n",
    "    times_geted_data = times_geted_data + 1\n",
    "    sleep(time_sleep)"
   ]
  }
 ],
 "metadata": {
  "kernelspec": {
   "display_name": "Python 3",
   "language": "python",
   "name": "python3"
  },
  "language_info": {
   "codemirror_mode": {
    "name": "ipython",
    "version": 3
   },
   "file_extension": ".py",
   "mimetype": "text/x-python",
   "name": "python",
   "nbconvert_exporter": "python",
   "pygments_lexer": "ipython3",
   "version": "3.10.4"
  },
  "orig_nbformat": 4,
  "vscode": {
   "interpreter": {
    "hash": "a42ccb73e7d9bfdf27e036f1d2b8b681e55fc0743cc5586bc2474d4a60f4b886"
   }
  }
 },
 "nbformat": 4,
 "nbformat_minor": 2
}
